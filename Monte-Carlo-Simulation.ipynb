{
 "cells": [
  {
   "cell_type": "code",
   "execution_count": 11,
   "metadata": {
    "collapsed": false
   },
   "outputs": [],
   "source": [
    "\n",
    "import numpy as np\n",
    "import matplotlib.pyplot as plt\n",
    "import datetime\n",
    "\n",
    "now = datetime.datetime.now()\n",
    "\n",
    "I =15\n",
    "J =15\n",
    "#IJ  are the shape of the simulated optical lattice\n",
    "A = np.empty((I,J))\n",
    "for i in range(I):\n",
    "    for j in range(J):\n",
    "        A[i,j]= 1\n",
    "        \n",
    "JKBTMAX = 5 #range of temperature \n",
    "Steplen = 0.1 # step length\n",
    "K = int(JKBTMAX/Steplen) +1 \n",
    "C = np.empty((I,J,K))\n",
    "for k in range(K):\n",
    "    for i in range(I):\n",
    "        for j in range(J):\n",
    "            C[i,j,k]=0\n",
    "\n",
    "import random\n",
    "W =22500\n",
    "for JKBT in range(K):\n",
    "    Temp = K-JKBT \n",
    "    for w in range(W):\n",
    "        i = int(np.round((I-1)*random.uniform(0,1)))\n",
    "        j = int(np.round((J-1)*random.uniform(0,1)))\n",
    "        A[i,j]=-A[i,j]\n",
    "        if i==0:\n",
    "            im=I-1\n",
    "        else:\n",
    "            im=i-1\n",
    "        if i==I-1:\n",
    "            ip=0\n",
    "        else:\n",
    "            ip=i+1\n",
    "        if j==0:\n",
    "            jm=J-1\n",
    "        else:\n",
    "            jm=j-1\n",
    "        if j==J-1:\n",
    "            jp=0\n",
    "        else:\n",
    "            jp=j+1\n",
    "        \n",
    "        \n",
    "        dE =-2* (A[i,j]*A[ip,j]+A[i,j]*A[i,jp]+A[i,j]*A[im,j]+A[i,j]*A[i,jm])\n",
    "        if dE<0:\n",
    "            A[i,j] = A[i,j]\n",
    "        else:\n",
    "            if np.exp(-dE/(Temp*Steplen))<random.uniform(0,1):\n",
    "                A[i,j] = -A[i,j]\n",
    "                \n",
    "        if w>=W*0.9:\n",
    "            C[:,:,JKBT] = C[:,:,JKBT]+A[:,:]\n",
    "    C[:,:,JKBT] = C[:,:,JKBT]/(W*0.1)            \n",
    "    "
   ]
  },
  {
   "cell_type": "code",
   "execution_count": 12,
   "metadata": {
    "collapsed": false
   },
   "outputs": [
    {
     "name": "stdout",
     "output_type": "stream",
     "text": [
      "22.3\n"
     ]
    }
   ],
   "source": [
    "iii=[1]*K\n",
    "for i in range(K):\n",
    "    iii[i] = np.sum(C[:,:,i])\n",
    "    \n",
    "ii = range(K)\n",
    "f=plt.scatter(ii,iii[:])\n",
    "print((datetime.datetime.now() - now).total_seconds())\n"
   ]
  },
  {
   "cell_type": "code",
   "execution_count": 13,
   "metadata": {
    "collapsed": false
   },
   "outputs": [],
   "source": [
    "plt.show(f)"
   ]
  },
  {
   "cell_type": "code",
   "execution_count": 1,
   "metadata": {
    "collapsed": false,
    "scrolled": true
   },
   "outputs": [],
   "source": [
    "import numpy as np\n"
   ]
  },
  {
   "cell_type": "code",
   "execution_count": 16,
   "metadata": {
    "collapsed": false
   },
   "outputs": [
    {
     "data": {
      "text/plain": [
       "1.0"
      ]
     },
     "execution_count": 16,
     "metadata": {},
     "output_type": "execute_result"
    }
   ],
   "source": [
    "np.floor(2249*10/22500+1)"
   ]
  },
  {
   "cell_type": "code",
   "execution_count": 2,
   "metadata": {
    "collapsed": false
   },
   "outputs": [
    {
     "data": {
      "text/plain": [
       "1.0"
      ]
     },
     "execution_count": 2,
     "metadata": {},
     "output_type": "execute_result"
    }
   ],
   "source": [
    "np.floor(1.9)"
   ]
  },
  {
   "cell_type": "code",
   "execution_count": 16,
   "metadata": {
    "collapsed": false
   },
   "outputs": [
    {
     "name": "stdout",
     "output_type": "stream",
     "text": [
      "9.721\n"
     ]
    }
   ],
   "source": [
    "import numpy as np\n",
    "now = datetime.datetime.now()\n",
    "I =30\n",
    "J =30\n",
    "#IJ  are the shape of the simulated optical lattice\n",
    "A = np.empty((I,J))\n",
    "B = np.empty((I,J))\n",
    "for i in range(I):\n",
    "    for j in range(J):\n",
    "        A[i,j]= 1\n",
    "        B[i,j]=1\n",
    "JKBTMAX = 7 #range of temperature\n",
    "Steplen = 0.1 # step length\n",
    "K = int(JKBTMAX/Steplen) +1\n",
    "C = np.empty((I,J,K))\n",
    "for k in range(K):\n",
    "    for i in range(I):\n",
    "        for j in range(J):\n",
    "            C[i,j,k]=0\n",
    "\n",
    "import random\n",
    "W =30\n",
    "W2=3000\n",
    "shrs = 0.9\n",
    "for JKBT in range(20,K):\n",
    "    Temp = K-JKBT\n",
    "    for w in range(W2):\n",
    "        i = int(np.round((I-1)*random.uniform(0,1)))\n",
    "        j = int(np.round((J-1)*random.uniform(0,1)))\n",
    "        A[i,j]=-A[i,j]\n",
    "        if i==0:\n",
    "            im=I-1\n",
    "        else:\n",
    "            im=i-1\n",
    "        if i==I-1:\n",
    "            ip=0\n",
    "        else:\n",
    "            ip=i+1\n",
    "        if j==0:\n",
    "            jm=J-1\n",
    "        else:\n",
    "            jm=j-1\n",
    "        if j==J-1:\n",
    "            jp=0\n",
    "        else:\n",
    "            jp=j+1\n",
    "       \n",
    "       \n",
    "        dE =-2* (A[i,j]*A[ip,j]+A[i,j]*A[i,jp]+A[i,j]*A[im,j]+A[i,j]*A[i,jm])\n",
    "        if dE<0:\n",
    "            A[i,j] = A[i,j]\n",
    "        else:\n",
    "            if np.exp(-dE/(Temp*Steplen))<random.uniform(0,1):\n",
    "                A[i,j] = -A[i,j]\n",
    "               \n",
    "        C[:,:,JKBT] = C[:,:,JKBT]+A[:,:]\n",
    "    C[:,:,JKBT] = C[:,:,JKBT]/(W2)            \n",
    "   \n",
    "       \n",
    "\n",
    "for k in range(K):\n",
    "    for i in range(I):\n",
    "        for j in range(J):\n",
    "            C[i,j,k]=0\n",
    "for JKBT in range(20,K):\n",
    "    Temp = K-JKBT\n",
    "    for w in range(W):\n",
    "        for i in range(I):\n",
    "            for j in range(J):\n",
    "                if i==0:\n",
    "                    im=I-1\n",
    "                else:\n",
    "                    im=i-1\n",
    "                if i==I-1:\n",
    "                    ip=0\n",
    "                else:\n",
    "                    ip=i+1\n",
    "                if j==0:\n",
    "                    jm=J-1\n",
    "                else:\n",
    "                    jm=j-1\n",
    "                if j==J-1:\n",
    "                    jp=0\n",
    "                else:\n",
    "                    jp=j+1\n",
    "                Sumup = 0\n",
    "                Sumup = A[ip,j]+A[i,jp]+A[im,j]+A[i,jm]\n",
    "                Timesup = 0\n",
    "                Timesup = Sumup * A[i,j]\n",
    "                B[i,j] = - np.sign(Temp*Steplen* np.log(1/random.uniform(0,1)) - 2*Timesup ) *A[i,j]\n",
    "                A[:,:] = B[:,:]\n",
    "        if w>=shrs * W:\n",
    "            C[:,:,JKBT] = C[:,:,JKBT]+A[:,:]\n",
    "    C[:,:,JKBT] = C[:,:,JKBT]/(W*(1-shrs))                \n",
    "iii=[1]*K\n",
    "for i in range(K):\n",
    "    iii[i] = np.sum(C[:,:,i])\n",
    "   \n",
    "ii = range(K-20)\n",
    "f=plt.scatter(ii,iii[20:])\n",
    "print((datetime.datetime.now() - now).total_seconds())\n",
    "                  "
   ]
  },
  {
   "cell_type": "code",
   "execution_count": 17,
   "metadata": {
    "collapsed": true
   },
   "outputs": [],
   "source": [
    "plt.show(f)  "
   ]
  },
  {
   "cell_type": "code",
   "execution_count": null,
   "metadata": {
    "collapsed": true
   },
   "outputs": [],
   "source": []
  },
  {
   "cell_type": "code",
   "execution_count": null,
   "metadata": {
    "collapsed": true
   },
   "outputs": [],
   "source": []
  },
  {
   "cell_type": "code",
   "execution_count": 66,
   "metadata": {
    "collapsed": false
   },
   "outputs": [],
   "source": [
    "import random\n",
    "W =30000\n",
    "for JKBT in range(K):\n",
    "    Temp = K-JKBT \n",
    "    for w in range(W):\n",
    "        i = int(np.round((I-1)*random.uniform(0,1)))\n",
    "        j = int(np.round((J-1)*random.uniform(0,1)))\n",
    "        A[i,j]=-A[i,j]\n",
    "        if i==0:\n",
    "            im=I-1\n",
    "        else:\n",
    "            im=i-1\n",
    "        if i==I-1:\n",
    "            ip=0\n",
    "        else:\n",
    "            ip=i+1\n",
    "        if j==0:\n",
    "            jm=J-1\n",
    "        else:\n",
    "            jm=j-1\n",
    "        if j==J-1:\n",
    "            jp=0\n",
    "        else:\n",
    "            jp=j+1\n",
    "        \n",
    "        \n",
    "        dE =-2* (A[i,j]*A[ip,j]+A[i,j]*A[i,jp]+A[i,j]*A[im,j]+A[i,j]*A[i,jm])\n",
    "        if dE<0:\n",
    "            A[i,j] = A[i,j]\n",
    "        else:\n",
    "            if np.exp(-dE/(Temp*Steplen))<random.uniform(0,1):\n",
    "                A[i,j] = -A[i,j]\n",
    "                \n",
    "        if w>=W*0.9:\n",
    "            C[:,:,JKBT] = C[:,:,JKBT]+A[:,:]\n",
    "    C[:,:,JKBT] = C[:,:,JKBT]/(W*0.1)            \n",
    "    "
   ]
  },
  {
   "cell_type": "code",
   "execution_count": 3,
   "metadata": {
    "collapsed": false
   },
   "outputs": [],
   "source": [
    "for i in range(I):\n",
    "    for JKBT in range(K):\n",
    "        for j in range(J):\n",
    "            if C[i,j,JKBT]>0:\n",
    "                C[i,j,JKBT]=1\n",
    "            else:\n",
    "                C[i,j,JKBT]=-1"
   ]
  },
  {
   "cell_type": "code",
   "execution_count": 63,
   "metadata": {
    "collapsed": false
   },
   "outputs": [],
   "source": [
    "import matplotlib.pyplot as plt\n",
    "plt.imshow((C[:,:,0]),cmap=\"binary\")\n",
    "plt.show()"
   ]
  },
  {
   "cell_type": "code",
   "execution_count": 5,
   "metadata": {
    "collapsed": false
   },
   "outputs": [],
   "source": [
    "import scipy\n",
    "from scipy import misc\n",
    "for i in range(K):\n",
    "    img = np.mat(C[:,:,i])\n",
    "    scipy.misc.imsave('C:/Users/sunho/Desktop/FIGSAVE/'+ str(i) +'a.png',img)\n"
   ]
  },
  {
   "cell_type": "code",
   "execution_count": 67,
   "metadata": {
    "collapsed": false
   },
   "outputs": [],
   "source": [
    "iii=[1]*K\n",
    "for i in range(K):\n",
    "    iii[i] = np.sum(C[:,:,i])\n",
    "    \n",
    "ii = range(K)\n",
    "f=plt.scatter(ii,iii[:]) \n",
    "plt.show(f)"
   ]
  },
  {
   "cell_type": "code",
   "execution_count": null,
   "metadata": {
    "collapsed": false
   },
   "outputs": [],
   "source": [
    "\n"
   ]
  },
  {
   "cell_type": "code",
   "execution_count": null,
   "metadata": {
    "collapsed": false
   },
   "outputs": [],
   "source": []
  },
  {
   "cell_type": "code",
   "execution_count": 33,
   "metadata": {
    "collapsed": false
   },
   "outputs": [],
   "source": [
    "import numpy as np\n",
    "now = datetime.datetime.now()\n",
    "I =30\n",
    "J =30\n",
    "#IJ  are the shape of the simulated optical lattice\n",
    "A = np.empty((I,J))\n",
    "B = np.empty((I,J))\n",
    "for i in range(I):\n",
    "    for j in range(J):\n",
    "        A[i,j]= 1\n",
    "        B[i,j]=1\n",
    "JKBTMAX = 7 #range of temperature \n",
    "Steplen = 0.1 # step length\n",
    "K = int(JKBTMAX/Steplen) +1 \n",
    "C = np.empty((I,J,K))\n",
    "for k in range(K):\n",
    "    for i in range(I):\n",
    "        for j in range(J):\n",
    "            C[i,j,k]=0\n",
    "\n",
    "import random\n",
    "W =30\n",
    "shrs = 0.9\n",
    "for JKBT in range(20,K):\n",
    "    Temp = K-JKBT \n",
    "    for w in range(W):\n",
    "        for i in range(I):\n",
    "            for j in range(J):\n",
    "                if i==0:\n",
    "                    im=I-1\n",
    "                else:\n",
    "                    im=i-1\n",
    "                if i==I-1:\n",
    "                    ip=0\n",
    "                else:\n",
    "                    ip=i+1\n",
    "                if j==0:\n",
    "                    jm=J-1\n",
    "                else:\n",
    "                    jm=j-1\n",
    "                if j==J-1:\n",
    "                    jp=0\n",
    "                else:\n",
    "                    jp=j+1\n",
    "                Sumup = 0\n",
    "                Sumup = A[ip,j]+A[i,jp]+A[im,j]+A[i,jm]\n",
    "                Timesup = 0\n",
    "                Timesup = Sumup * A[i,j]\n",
    "                B[i,j] = - np.sign(Temp*Steplen* np.log(1/random.uniform(0,1)) - 2*Timesup ) *A[i,j]\n",
    "                A[:,:] = B[:,:]\n",
    "        if w>=shrs * W:\n",
    "            C[:,:,JKBT] = C[:,:,JKBT]+A[:,:]\n",
    "    C[:,:,JKBT] = C[:,:,JKBT]/(W*(1-shrs))\n",
    "          "
   ]
  },
  {
   "cell_type": "code",
   "execution_count": null,
   "metadata": {
    "collapsed": false
   },
   "outputs": [],
   "source": []
  },
  {
   "cell_type": "code",
   "execution_count": 34,
   "metadata": {
    "collapsed": false
   },
   "outputs": [
    {
     "name": "stdout",
     "output_type": "stream",
     "text": [
      "6.817\n"
     ]
    }
   ],
   "source": [
    "iii=[1]*K\n",
    "for i in range(K):\n",
    "    iii[i] = np.sum(C[:,:,i])\n",
    "   \n",
    "ii = range(K-20)\n",
    "f=plt.scatter(ii,iii[20:])\n",
    "print((datetime.datetime.now() - now).total_seconds())\n"
   ]
  },
  {
   "cell_type": "code",
   "execution_count": 37,
   "metadata": {
    "collapsed": true
   },
   "outputs": [],
   "source": [
    "plt.show(f)#saved as method 6.817s"
   ]
  },
  {
   "cell_type": "code",
   "execution_count": 38,
   "metadata": {
    "collapsed": false
   },
   "outputs": [
    {
     "name": "stdout",
     "output_type": "stream",
     "text": [
      "66.976\n"
     ]
    }
   ],
   "source": [
    "import numpy as np\n",
    "now = datetime.datetime.now()\n",
    "I =30\n",
    "J =30\n",
    "#IJ  are the shape of the simulated optical lattice\n",
    "A = np.empty((I,J))\n",
    "B = np.empty((I,J))\n",
    "for i in range(I):\n",
    "    for j in range(J):\n",
    "        A[i,j]= 1\n",
    "        B[i,j]=1\n",
    "JKBTMAX = 7 #range of temperature \n",
    "Steplen = 0.1 # step length\n",
    "K = int(JKBTMAX/Steplen) +1 \n",
    "C = np.empty((I,J,K))\n",
    "for k in range(K):\n",
    "    for i in range(I):\n",
    "        for j in range(J):\n",
    "            C[i,j,k]=0\n",
    "\n",
    "import random\n",
    "W =300\n",
    "shrs = 0.9\n",
    "for JKBT in range(20,K):\n",
    "    Temp = K-JKBT \n",
    "    for w in range(W):\n",
    "        for i in range(I):\n",
    "            for j in range(J):\n",
    "                if i==0:\n",
    "                    im=I-1\n",
    "                else:\n",
    "                    im=i-1\n",
    "                if i==I-1:\n",
    "                    ip=0\n",
    "                else:\n",
    "                    ip=i+1\n",
    "                if j==0:\n",
    "                    jm=J-1\n",
    "                else:\n",
    "                    jm=j-1\n",
    "                if j==J-1:\n",
    "                    jp=0\n",
    "                else:\n",
    "                    jp=j+1\n",
    "                Sumup = 0\n",
    "                Sumup = A[ip,j]+A[i,jp]+A[im,j]+A[i,jm]\n",
    "                Timesup = 0\n",
    "                Timesup = Sumup * A[i,j]\n",
    "                B[i,j] = - np.sign(Temp*Steplen* np.log(1/random.uniform(0,1)) - 2*Timesup ) *A[i,j]\n",
    "                A[:,:] = B[:,:]\n",
    "        if w>=shrs * W:\n",
    "            C[:,:,JKBT] = C[:,:,JKBT]+A[:,:]\n",
    "    C[:,:,JKBT] = C[:,:,JKBT]/(W*(1-shrs))\n",
    "\n",
    "    \n",
    "iii=[1]*K\n",
    "for i in range(K):\n",
    "    iii[i] = np.sum(C[:,:,i])\n",
    "   \n",
    "ii = range(K-20)\n",
    "f=plt.scatter(ii,iii[20:])\n",
    "print((datetime.datetime.now() - now).total_seconds())          "
   ]
  },
  {
   "cell_type": "code",
   "execution_count": 39,
   "metadata": {
    "collapsed": true
   },
   "outputs": [],
   "source": [
    "plt.show(f)#saved as method66.976s"
   ]
  },
  {
   "cell_type": "code",
   "execution_count": 40,
   "metadata": {
    "collapsed": false
   },
   "outputs": [
    {
     "name": "stdout",
     "output_type": "stream",
     "text": [
      "224.081\n"
     ]
    }
   ],
   "source": [
    "\n",
    "import numpy as np\n",
    "import matplotlib.pyplot as plt\n",
    "import datetime\n",
    "\n",
    "now = datetime.datetime.now()\n",
    "\n",
    "I =30\n",
    "J =30\n",
    "#IJ  are the shape of the simulated optical lattice\n",
    "A = np.empty((I,J))\n",
    "for i in range(I):\n",
    "    for j in range(J):\n",
    "        A[i,j]= 1\n",
    "        \n",
    "JKBTMAX = 5 #range of temperature \n",
    "Steplen = 0.1 # step length\n",
    "K = int(JKBTMAX/Steplen) +1 \n",
    "C = np.empty((I,J,K))\n",
    "for k in range(K):\n",
    "    for i in range(I):\n",
    "        for j in range(J):\n",
    "            C[i,j,k]=0\n",
    "\n",
    "import random\n",
    "W =300000\n",
    "for JKBT in range(K):\n",
    "    Temp = K-JKBT \n",
    "    for w in range(W):\n",
    "        i = int(np.round((I-1)*random.uniform(0,1)))\n",
    "        j = int(np.round((J-1)*random.uniform(0,1)))\n",
    "        A[i,j]=-A[i,j]\n",
    "        if i==0:\n",
    "            im=I-1\n",
    "        else:\n",
    "            im=i-1\n",
    "        if i==I-1:\n",
    "            ip=0\n",
    "        else:\n",
    "            ip=i+1\n",
    "        if j==0:\n",
    "            jm=J-1\n",
    "        else:\n",
    "            jm=j-1\n",
    "        if j==J-1:\n",
    "            jp=0\n",
    "        else:\n",
    "            jp=j+1\n",
    "        \n",
    "        \n",
    "        dE =-2* (A[i,j]*A[ip,j]+A[i,j]*A[i,jp]+A[i,j]*A[im,j]+A[i,j]*A[i,jm])\n",
    "        if dE<0:\n",
    "            A[i,j] = A[i,j]\n",
    "        else:\n",
    "            if np.exp(-dE/(Temp*Steplen))<random.uniform(0,1):\n",
    "                A[i,j] = -A[i,j]\n",
    "                \n",
    "        if w>=W*0.9:\n",
    "            C[:,:,JKBT] = C[:,:,JKBT]+A[:,:]\n",
    "    C[:,:,JKBT] = C[:,:,JKBT]/(W*0.1)            \n",
    "\n",
    "    \n",
    "iii=[1]*K\n",
    "for i in range(K):\n",
    "    iii[i] = np.sum(C[:,:,i])\n",
    "    \n",
    "ii = range(K)\n",
    "f=plt.scatter(ii,iii[:])\n",
    "print((datetime.datetime.now() - now).total_seconds())"
   ]
  },
  {
   "cell_type": "code",
   "execution_count": 42,
   "metadata": {
    "collapsed": false
   },
   "outputs": [],
   "source": [
    "plt.show(f)"
   ]
  },
  {
   "cell_type": "code",
   "execution_count": 43,
   "metadata": {
    "collapsed": false
   },
   "outputs": [
    {
     "data": {
      "text/plain": [
       "3.274607598650433"
      ]
     },
     "execution_count": 43,
     "metadata": {},
     "output_type": "execute_result"
    }
   ],
   "source": [
    "22.323/6.817"
   ]
  },
  {
   "cell_type": "code",
   "execution_count": 55,
   "metadata": {
    "collapsed": false
   },
   "outputs": [
    {
     "ename": "KeyboardInterrupt",
     "evalue": "",
     "output_type": "error",
     "traceback": [
      "\u001b[1;31m---------------------------------------------------------------------------\u001b[0m",
      "\u001b[1;31mKeyboardInterrupt\u001b[0m                         Traceback (most recent call last)",
      "\u001b[1;32m<ipython-input-55-3d7d64a10614>\u001b[0m in \u001b[0;36m<module>\u001b[1;34m()\u001b[0m\n\u001b[0;32m     28\u001b[0m     \u001b[1;32mfor\u001b[0m \u001b[0mw\u001b[0m \u001b[1;32min\u001b[0m \u001b[0mrange\u001b[0m\u001b[1;33m(\u001b[0m\u001b[0mW\u001b[0m\u001b[1;33m)\u001b[0m\u001b[1;33m:\u001b[0m\u001b[1;33m\u001b[0m\u001b[0m\n\u001b[0;32m     29\u001b[0m         \u001b[0mi\u001b[0m \u001b[1;33m=\u001b[0m \u001b[0mint\u001b[0m\u001b[1;33m(\u001b[0m\u001b[0mnp\u001b[0m\u001b[1;33m.\u001b[0m\u001b[0mround\u001b[0m\u001b[1;33m(\u001b[0m\u001b[1;33m(\u001b[0m\u001b[0mI\u001b[0m\u001b[1;33m-\u001b[0m\u001b[1;36m1\u001b[0m\u001b[1;33m)\u001b[0m\u001b[1;33m*\u001b[0m\u001b[0mrandom\u001b[0m\u001b[1;33m.\u001b[0m\u001b[0muniform\u001b[0m\u001b[1;33m(\u001b[0m\u001b[1;36m0\u001b[0m\u001b[1;33m,\u001b[0m\u001b[1;36m1\u001b[0m\u001b[1;33m)\u001b[0m\u001b[1;33m)\u001b[0m\u001b[1;33m)\u001b[0m\u001b[1;33m\u001b[0m\u001b[0m\n\u001b[1;32m---> 30\u001b[1;33m         \u001b[0mj\u001b[0m \u001b[1;33m=\u001b[0m \u001b[0mint\u001b[0m\u001b[1;33m(\u001b[0m\u001b[0mnp\u001b[0m\u001b[1;33m.\u001b[0m\u001b[0mround\u001b[0m\u001b[1;33m(\u001b[0m\u001b[1;33m(\u001b[0m\u001b[0mJ\u001b[0m\u001b[1;33m-\u001b[0m\u001b[1;36m1\u001b[0m\u001b[1;33m)\u001b[0m\u001b[1;33m*\u001b[0m\u001b[0mrandom\u001b[0m\u001b[1;33m.\u001b[0m\u001b[0muniform\u001b[0m\u001b[1;33m(\u001b[0m\u001b[1;36m0\u001b[0m\u001b[1;33m,\u001b[0m\u001b[1;36m1\u001b[0m\u001b[1;33m)\u001b[0m\u001b[1;33m)\u001b[0m\u001b[1;33m)\u001b[0m\u001b[1;33m\u001b[0m\u001b[0m\n\u001b[0m\u001b[0;32m     31\u001b[0m         \u001b[0mA\u001b[0m\u001b[1;33m[\u001b[0m\u001b[0mi\u001b[0m\u001b[1;33m,\u001b[0m\u001b[0mj\u001b[0m\u001b[1;33m]\u001b[0m\u001b[1;33m=\u001b[0m\u001b[1;33m-\u001b[0m\u001b[0mA\u001b[0m\u001b[1;33m[\u001b[0m\u001b[0mi\u001b[0m\u001b[1;33m,\u001b[0m\u001b[0mj\u001b[0m\u001b[1;33m]\u001b[0m\u001b[1;33m\u001b[0m\u001b[0m\n\u001b[0;32m     32\u001b[0m         \u001b[1;32mif\u001b[0m \u001b[0mi\u001b[0m\u001b[1;33m==\u001b[0m\u001b[1;36m0\u001b[0m\u001b[1;33m:\u001b[0m\u001b[1;33m\u001b[0m\u001b[0m\n",
      "\u001b[1;32mC:\\Users\\sunho\\Anaconda2\\lib\\site-packages\\numpy\\core\\fromnumeric.pyc\u001b[0m in \u001b[0;36mround_\u001b[1;34m(a, decimals, out)\u001b[0m\n\u001b[0;32m   2779\u001b[0m         \u001b[0mround\u001b[0m \u001b[1;33m=\u001b[0m \u001b[0ma\u001b[0m\u001b[1;33m.\u001b[0m\u001b[0mround\u001b[0m\u001b[1;33m\u001b[0m\u001b[0m\n\u001b[0;32m   2780\u001b[0m     \u001b[1;32mexcept\u001b[0m \u001b[0mAttributeError\u001b[0m\u001b[1;33m:\u001b[0m\u001b[1;33m\u001b[0m\u001b[0m\n\u001b[1;32m-> 2781\u001b[1;33m         \u001b[1;32mreturn\u001b[0m \u001b[0m_wrapit\u001b[0m\u001b[1;33m(\u001b[0m\u001b[0ma\u001b[0m\u001b[1;33m,\u001b[0m \u001b[1;34m'round'\u001b[0m\u001b[1;33m,\u001b[0m \u001b[0mdecimals\u001b[0m\u001b[1;33m,\u001b[0m \u001b[0mout\u001b[0m\u001b[1;33m)\u001b[0m\u001b[1;33m\u001b[0m\u001b[0m\n\u001b[0m\u001b[0;32m   2782\u001b[0m     \u001b[1;32mreturn\u001b[0m \u001b[0mround\u001b[0m\u001b[1;33m(\u001b[0m\u001b[0mdecimals\u001b[0m\u001b[1;33m,\u001b[0m \u001b[0mout\u001b[0m\u001b[1;33m)\u001b[0m\u001b[1;33m\u001b[0m\u001b[0m\n\u001b[0;32m   2783\u001b[0m \u001b[1;33m\u001b[0m\u001b[0m\n",
      "\u001b[1;31mKeyboardInterrupt\u001b[0m: "
     ]
    }
   ],
   "source": [
    "import numpy as np\n",
    "import matplotlib.pyplot as plt\n",
    "import datetime\n",
    "\n",
    "now = datetime.datetime.now()\n",
    "\n",
    "I =100\n",
    "J =100\n",
    "#IJ  are the shape of the simulated optical lattice\n",
    "A = np.empty((I,J))\n",
    "for i in range(I):\n",
    "    for j in range(J):\n",
    "        A[i,j]= 1\n",
    "        \n",
    "JKBTMAX = 5 #range of temperature \n",
    "Steplen = 0.1 # step length\n",
    "K = int(JKBTMAX/Steplen) +1 \n",
    "C = np.empty((I,J,K))\n",
    "for k in range(K):\n",
    "    for i in range(I):\n",
    "        for j in range(J):\n",
    "            C[i,j,k]=0\n",
    "\n",
    "import random\n",
    "W =30000000\n",
    "for JKBT in range(K):\n",
    "    Temp = K-JKBT \n",
    "    for w in range(W):\n",
    "        i = int(np.round((I-1)*random.uniform(0,1)))\n",
    "        j = int(np.round((J-1)*random.uniform(0,1)))\n",
    "        A[i,j]=-A[i,j]\n",
    "        if i==0:\n",
    "            im=I-1\n",
    "        else:\n",
    "            im=i-1\n",
    "        if i==I-1:\n",
    "            ip=0\n",
    "        else:\n",
    "            ip=i+1\n",
    "        if j==0:\n",
    "            jm=J-1\n",
    "        else:\n",
    "            jm=j-1\n",
    "        if j==J-1:\n",
    "            jp=0\n",
    "        else:\n",
    "            jp=j+1\n",
    "        \n",
    "        \n",
    "        dE =-2* (A[i,j]*A[ip,j]+A[i,j]*A[i,jp]+A[i,j]*A[im,j]+A[i,j]*A[i,jm])\n",
    "        if dE<0:\n",
    "            A[i,j] = A[i,j]\n",
    "        else:\n",
    "            if np.exp(-dE/(Temp*Steplen))<random.uniform(0,1):\n",
    "                A[i,j] = -A[i,j]\n",
    "                \n",
    "        if w>=W*0.9:\n",
    "            C[:,:,JKBT] = C[:,:,JKBT]+A[:,:]\n",
    "    C[:,:,JKBT] = C[:,:,JKBT]/(W*0.1)            \n",
    "\n",
    "    \n",
    "iii=[1]*K\n",
    "for i in range(K):\n",
    "    iii[i] = np.sum(C[:,:,i])\n",
    "    \n",
    "ii = range(K)\n",
    "f=plt.scatter(ii,iii[:])\n",
    "print((datetime.datetime.now() - now).total_seconds())"
   ]
  },
  {
   "cell_type": "code",
   "execution_count": 52,
   "metadata": {
    "collapsed": true
   },
   "outputs": [],
   "source": [
    "plt.show(f)"
   ]
  },
  {
   "cell_type": "code",
   "execution_count": 53,
   "metadata": {
    "collapsed": false
   },
   "outputs": [
    {
     "name": "stdout",
     "output_type": "stream",
     "text": [
      "1346.792\n"
     ]
    }
   ],
   "source": [
    "import numpy as np\n",
    "now = datetime.datetime.now()\n",
    "I =100\n",
    "J =100\n",
    "#IJ  are the shape of the simulated optical lattice\n",
    "A = np.empty((I,J))\n",
    "B = np.empty((I,J))\n",
    "for i in range(I):\n",
    "    for j in range(J):\n",
    "        A[i,j]= 1\n",
    "        B[i,j]=1\n",
    "JKBTMAX = 7 #range of temperature \n",
    "Steplen = 0.1 # step length\n",
    "K = int(JKBTMAX/Steplen) +1 \n",
    "C = np.empty((I,J,K))\n",
    "for k in range(K):\n",
    "    for i in range(I):\n",
    "        for j in range(J):\n",
    "            C[i,j,k]=0\n",
    "\n",
    "import random\n",
    "W =300\n",
    "shrs = 0.9\n",
    "for JKBT in range(20,K):\n",
    "    Temp = K-JKBT \n",
    "    for w in range(W):\n",
    "        for i in range(I):\n",
    "            for j in range(J):\n",
    "                if i==0:\n",
    "                    im=I-1\n",
    "                else:\n",
    "                    im=i-1\n",
    "                if i==I-1:\n",
    "                    ip=0\n",
    "                else:\n",
    "                    ip=i+1\n",
    "                if j==0:\n",
    "                    jm=J-1\n",
    "                else:\n",
    "                    jm=j-1\n",
    "                if j==J-1:\n",
    "                    jp=0\n",
    "                else:\n",
    "                    jp=j+1\n",
    "                Sumup = 0\n",
    "                Sumup = A[ip,j]+A[i,jp]+A[im,j]+A[i,jm]\n",
    "                Timesup = 0\n",
    "                Timesup = Sumup * A[i,j]\n",
    "                B[i,j] = - np.sign(Temp*Steplen* np.log(1/random.uniform(0,1)) - 2*Timesup ) *A[i,j]\n",
    "                A[:,:] = B[:,:]\n",
    "        if w>=shrs * W:\n",
    "            C[:,:,JKBT] = C[:,:,JKBT]+A[:,:]\n",
    "    C[:,:,JKBT] = C[:,:,JKBT]/(W*(1-shrs))\n",
    "\n",
    "    \n",
    "iii=[1]*K\n",
    "for i in range(K):\n",
    "    iii[i] = np.sum(C[:,:,i])\n",
    "   \n",
    "ii = range(K-20)\n",
    "f=plt.scatter(ii,iii[20:])\n",
    "print((datetime.datetime.now() - now).total_seconds())          "
   ]
  },
  {
   "cell_type": "code",
   "execution_count": 65,
   "metadata": {
    "collapsed": true
   },
   "outputs": [],
   "source": [
    "plt.show(f)"
   ]
  },
  {
   "cell_type": "code",
   "execution_count": 3,
   "metadata": {
    "collapsed": false
   },
   "outputs": [
    {
     "name": "stdout",
     "output_type": "stream",
     "text": [
      "14982.783\n"
     ]
    }
   ],
   "source": []
  },
  {
   "cell_type": "code",
   "execution_count": 61,
   "metadata": {
    "collapsed": true
   },
   "outputs": [],
   "source": [
    "plt.show(f2)"
   ]
  },
  {
   "cell_type": "code",
   "execution_count": 2,
   "metadata": {
    "collapsed": false
   },
   "outputs": [
    {
     "name": "stdout",
     "output_type": "stream",
     "text": [
      "30300.714\n"
     ]
    }
   ],
   "source": []
  },
  {
   "cell_type": "code",
   "execution_count": 84,
   "metadata": {
    "collapsed": true
   },
   "outputs": [],
   "source": [
    "plt.show(f)"
   ]
  },
  {
   "cell_type": "code",
   "execution_count": 1,
   "metadata": {
    "collapsed": false
   },
   "outputs": [
    {
     "ename": "NameError",
     "evalue": "name 'plt' is not defined",
     "output_type": "error",
     "traceback": [
      "\u001b[1;31m---------------------------------------------------------------------------\u001b[0m",
      "\u001b[1;31mNameError\u001b[0m                                 Traceback (most recent call last)",
      "\u001b[1;32m<ipython-input-1-de87d1844fad>\u001b[0m in \u001b[0;36m<module>\u001b[1;34m()\u001b[0m\n\u001b[1;32m----> 1\u001b[1;33m \u001b[0mplt\u001b[0m\u001b[1;33m.\u001b[0m\u001b[0mfigure\u001b[0m\u001b[1;33m(\u001b[0m\u001b[1;33m)\u001b[0m\u001b[1;33m\u001b[0m\u001b[0m\n\u001b[0m\u001b[0;32m      2\u001b[0m \u001b[0mplt\u001b[0m\u001b[1;33m.\u001b[0m\u001b[0mscatter\u001b[0m\u001b[1;33m(\u001b[0m\u001b[0mii\u001b[0m\u001b[1;33m,\u001b[0m\u001b[0miii\u001b[0m\u001b[1;33m[\u001b[0m\u001b[1;33m:\u001b[0m\u001b[1;33m]\u001b[0m\u001b[1;33m)\u001b[0m\u001b[1;33m\u001b[0m\u001b[0m\n",
      "\u001b[1;31mNameError\u001b[0m: name 'plt' is not defined"
     ]
    }
   ],
   "source": [
    "plt.figure()\n",
    "plt.scatter(ii,iii[:])"
   ]
  },
  {
   "cell_type": "code",
   "execution_count": 80,
   "metadata": {
    "collapsed": false
   },
   "outputs": [
    {
     "data": {
      "text/plain": [
       "<matplotlib.collections.PathCollection at 0x1b11af28>"
      ]
     },
     "execution_count": 80,
     "metadata": {},
     "output_type": "execute_result"
    }
   ],
   "source": [
    "f2"
   ]
  },
  {
   "cell_type": "code",
   "execution_count": 72,
   "metadata": {
    "collapsed": false
   },
   "outputs": [
    {
     "name": "stdout",
     "output_type": "stream",
     "text": [
      "Using matplotlib backend: Qt4Agg\n",
      "Populating the interactive namespace from numpy and matplotlib\n"
     ]
    }
   ],
   "source": [
    "%pylab"
   ]
  },
  {
   "cell_type": "code",
   "execution_count": 73,
   "metadata": {
    "collapsed": false
   },
   "outputs": [],
   "source": [
    "matplotlib.use('TkAgg')"
   ]
  },
  {
   "cell_type": "code",
   "execution_count": null,
   "metadata": {
    "collapsed": true
   },
   "outputs": [],
   "source": []
  }
 ],
 "metadata": {
  "anaconda-cloud": {},
  "kernelspec": {
   "display_name": "Python [conda root]",
   "language": "python",
   "name": "conda-root-py"
  },
  "language_info": {
   "codemirror_mode": {
    "name": "ipython",
    "version": 3
   },
   "file_extension": ".py",
   "mimetype": "text/x-python",
   "name": "python",
   "nbconvert_exporter": "python",
   "pygments_lexer": "ipython3",
   "version": "3.5.2"
  }
 },
 "nbformat": 4,
 "nbformat_minor": 1
}
