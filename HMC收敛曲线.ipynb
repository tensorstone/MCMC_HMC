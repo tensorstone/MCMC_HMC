{
 "cells": [
  {
   "cell_type": "code",
   "execution_count": 27,
   "metadata": {
    "collapsed": false
   },
   "outputs": [
    {
     "name": "stderr",
     "output_type": "stream",
     "text": [
      "/Users/sunhop/anaconda/lib/python3.5/site-packages/ipykernel/__main__.py:46: RuntimeWarning: divide by zero encountered in true_divide\n",
      "/Users/sunhop/anaconda/lib/python3.5/site-packages/ipykernel/__main__.py:46: RuntimeWarning: invalid value encountered in power\n",
      "/Users/sunhop/anaconda/lib/python3.5/site-packages/ipykernel/__main__.py:86: VisibleDeprecationWarning: using a non-integer number instead of an integer will result in an error in the future\n"
     ]
    },
    {
     "name": "stdout",
     "output_type": "stream",
     "text": [
      "time: 169.865756\n"
     ]
    }
   ],
   "source": [
    "########\n",
    "##HMC##\n",
    "########\n",
    "'''\n",
    "this program will help to find the convergence rate of HMC, in term of magnetic moment\n",
    "author: Hao SUN\n",
    "email: sunhopht@gmail.com\n",
    "'''\n",
    "\n",
    "import numpy as np\n",
    "import matplotlib.pyplot as plt\n",
    "import datetime\n",
    "import random\n",
    "random.seed(123)#for duplication\n",
    "\n",
    "\n",
    "\n",
    "now = datetime.datetime.now()\n",
    "#the start time\n",
    "\n",
    "I =16\n",
    "J =16\n",
    "#I,J  are the shape of the simulated optical lattice\n",
    "\n",
    "A = np.empty((I,J))\n",
    "B = np.empty((I,J))\n",
    "for i in range(I):\n",
    "    for j in range(J):\n",
    "        A[i,j]= 1\n",
    "        B[i,j]= 1        \n",
    "        \n",
    "JKBTMAX = 5 #range of temperature \n",
    "Steplen = 0.1 # step length\n",
    "\n",
    "\n",
    "T = int(JKBTMAX/Steplen) #the number of temperature \n",
    "M = np.empty((10,T))#the average magnetic moment for every 10 percent result of each T\n",
    "for i in range(10):\n",
    "    for t in range(T):\n",
    "        M[i,t] = 0\n",
    "\n",
    "        \n",
    "ii = range(T)\n",
    "ii = np.asarray(ii)\n",
    "T_ =(ii[:]*Steplen)\n",
    "Onsager= I*J*(1-np.sinh(2/T_)**(-4))**0.125\n",
    "for i in range(len(Onsager)):\n",
    "    if np.isnan(Onsager[i]):\n",
    "        Onsager[i]=0\n",
    "\n",
    "#this is the Onsager solution\n",
    "\n",
    "\n",
    "CYCLE =1000\n",
    "Error_in_step = np.zeros((T,CYCLE))#to calculate the error in each cycle\n",
    "Error_pr = np.zeros((T,CYCLE*I*J))\n",
    "W = CYCLE\n",
    "for jkbt in range(T):\n",
    "    Temp = jkbt\n",
    "    for w in range(W):\n",
    "        for i in range(I):\n",
    "            for j in range(J):\n",
    "                if i==0:\n",
    "                    im=I-1\n",
    "                else:\n",
    "                    im=i-1\n",
    "                if i==I-1:\n",
    "                    ip=0\n",
    "                else:\n",
    "                    ip=i+1\n",
    "                if j==0:\n",
    "                    jm=J-1\n",
    "                else:\n",
    "                    jm=j-1\n",
    "                if j==J-1:\n",
    "                    jp=0\n",
    "                else:\n",
    "                    jp=j+1\n",
    "                Sumup = 0\n",
    "                Sumup = A[ip,j]+A[i,jp]+A[im,j]+A[i,jm]\n",
    "                Timesup = 0\n",
    "                Timesup = Sumup * A[i,j]\n",
    "                B[i,j] = - np.sign(Temp*Steplen* np.log(1/random.uniform(0,1)) - 2*Timesup ) *A[i,j]\n",
    "                A[:,:] = B[:,:]\n",
    "                Error_pr[jkbt,w*I*J + i*J + j] += np.abs( np.abs(np.sum(A)) - Onsager[jkbt])\n",
    "        M[np.floor((w)*10/W),jkbt]+= np.sum(A)\n",
    "        Error_in_step[jkbt,w] += np.abs( np.abs(np.sum(A)) - Onsager[jkbt])\n",
    "    M[:,jkbt] /= (W/10)\n",
    "end = datetime.datetime.now()\n",
    "print(\"time:\",(end-now).total_seconds())\n",
    "        \n",
    "        \n",
    "\n"
   ]
  },
  {
   "cell_type": "code",
   "execution_count": 38,
   "metadata": {
    "collapsed": false
   },
   "outputs": [
    {
     "data": {
      "text/plain": [
       "(50, 256000)"
      ]
     },
     "execution_count": 38,
     "metadata": {},
     "output_type": "execute_result"
    }
   ],
   "source": [
    "Error_pr.shape"
   ]
  },
  {
   "cell_type": "code",
   "execution_count": 50,
   "metadata": {
    "collapsed": false
   },
   "outputs": [
    {
     "data": {
      "image/png": "[encoded data removed]",
      "text/plain": [
       "<matplotlib.figure.Figure at 0x11106f978>"
      ]
     },
     "metadata": {},
     "output_type": "display_data"
    }
   ],
   "source": [
    "plt.plot(Error_pr[22,:])\n",
    "plt.show()"
   ]
  },
  {
   "cell_type": "code",
   "execution_count": 37,
   "metadata": {
    "collapsed": false
   },
   "outputs": [
    {
     "data": {
      "text/plain": [
       "26.18029067883289"
      ]
     },
     "execution_count": 37,
     "metadata": {},
     "output_type": "execute_result"
    }
   ],
   "source": [
    "np.mean(Error_pr)"
   ]
  },
  {
   "cell_type": "code",
   "execution_count": 49,
   "metadata": {
    "collapsed": true
   },
   "outputs": [],
   "source": [
    "np.save('/Users/sunhop/Desktop/HMC_MCMC/HMC_Error_pr', Error_pr)"
   ]
  },
  {
   "cell_type": "code",
   "execution_count": null,
   "metadata": {
    "collapsed": true
   },
   "outputs": [],
   "source": []
  }
 ],
 "metadata": {
  "kernelspec": {
   "display_name": "Python [default]",
   "language": "python",
   "name": "python3"
  },
  "language_info": {
   "codemirror_mode": {
    "name": "ipython",
    "version": 3
   },
   "file_extension": ".py",
   "mimetype": "text/x-python",
   "name": "python",
   "nbconvert_exporter": "python",
   "pygments_lexer": "ipython3",
   "version": "3.5.2"
  }
 },
 "nbformat": 4,
 "nbformat_minor": 1
}
