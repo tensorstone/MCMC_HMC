{
 "cells": [
  {
   "cell_type": "code",
   "execution_count": 1,
   "metadata": {
    "collapsed": false
   },
   "outputs": [
    {
     "name": "stderr",
     "output_type": "stream",
     "text": [
      "/Users/sunhop/anaconda/lib/python3.5/site-packages/ipykernel/__main__.py:76: RuntimeWarning: invalid value encountered in double_scalars\n",
      "/Users/sunhop/anaconda/lib/python3.5/site-packages/ipykernel/__main__.py:76: RuntimeWarning: divide by zero encountered in double_scalars\n",
      "/Users/sunhop/anaconda/lib/python3.5/site-packages/ipykernel/__main__.py:79: VisibleDeprecationWarning: using a non-integer number instead of an integer will result in an error in the future\n"
     ]
    },
    {
     "name": "stdout",
     "output_type": "stream",
     "text": [
      "time: 35.53809\n"
     ]
    },
    {
     "name": "stderr",
     "output_type": "stream",
     "text": [
      "/Users/sunhop/anaconda/lib/python3.5/site-packages/ipykernel/__main__.py:87: RuntimeWarning: divide by zero encountered in true_divide\n",
      "/Users/sunhop/anaconda/lib/python3.5/site-packages/ipykernel/__main__.py:87: RuntimeWarning: invalid value encountered in power\n"
     ]
    }
   ],
   "source": [
    "########\n",
    "##MCMC##\n",
    "########\n",
    "'''\n",
    "this program will help to find the convergence rate of MCMC, in term of magnetic moment\n",
    "author: Hao SUN\n",
    "email: sunhopht@gmail.com\n",
    "'''\n",
    "\n",
    "import numpy as np\n",
    "import matplotlib.pyplot as plt\n",
    "import datetime\n",
    "import random\n",
    "random.seed(123)#for duplication\n",
    "\n",
    "\n",
    "\n",
    "now = datetime.datetime.now()\n",
    "#the start time\n",
    "\n",
    "I =16\n",
    "J =16\n",
    "#I,J  are the shape of the simulated optical lattice\n",
    "\n",
    "A = np.empty((I,J))\n",
    "for i in range(I):\n",
    "    for j in range(J):\n",
    "        A[i,j]= 1\n",
    "        \n",
    "        \n",
    "JKBTMAX = 5 #range of temperature \n",
    "Steplen = 0.1 # step length\n",
    "\n",
    "\n",
    "T = int(JKBTMAX/Steplen) #the number of temperature \n",
    "M = np.empty((10,T))#the average magnetic moment for every 10 percent result of each T\n",
    "for i in range(10):\n",
    "    for t in range(T):\n",
    "        M[i,t] = 0\n",
    "\n",
    "\n",
    "cycle = 500 #cycle times for each point on average\n",
    "W =cycle #total cycle times for each T\n",
    "####################\n",
    "PLT = np.zeros((T,cycle,I,J))\n",
    "####################\n",
    "for jkbt in range(T):\n",
    "    Temp = jkbt\n",
    "    #Temp = T -1 - JKBT\n",
    "    for w in range(W):\n",
    "        for i in range(I):\n",
    "            for j in range(J):\n",
    "                A[i,j]=-A[i,j]\n",
    "                if i==0:\n",
    "                    im=I-1\n",
    "                else:\n",
    "                    im=i-1\n",
    "                if i==I-1:\n",
    "                    ip=0\n",
    "                else:\n",
    "                    ip=i+1\n",
    "                if j==0:\n",
    "                    jm=J-1\n",
    "                else:\n",
    "                    jm=j-1\n",
    "                if j==J-1:\n",
    "                    jp=0\n",
    "                else:\n",
    "                    jp=j+1\n",
    "\n",
    "\n",
    "                dE =2* (A[i,j]*A[ip,j]+A[i,j]*A[i,jp]+A[i,j]*A[im,j]+A[i,j]*A[i,jm])\n",
    "                if dE<0:\n",
    "                    A[i,j] = A[i,j]\n",
    "                else:\n",
    "                    if np.exp(-dE/(Temp*Steplen))<random.uniform(0,1):\n",
    "                        A[i,j] = -A[i,j]\n",
    "        PLT[jkbt,w,:,:] = A[:,:] \n",
    "        M[np.floor((w)*10/W),jkbt]+= np.sum(A)\n",
    "    M[:,jkbt] /= (W/10)\n",
    "end = datetime.datetime.now()\n",
    "print(\"time:\",(end-now).total_seconds())\n",
    "\n",
    "ii = range(T)\n",
    "ii = np.asarray(ii)\n",
    "T_ =(ii[:]*Steplen)\n",
    "Onsager= I*J*(1-np.sinh(2/T_)**(-4))**0.125\n",
    "for i in range(len(Onsager)):\n",
    "    if np.isnan(Onsager[i]):\n",
    "        Onsager[i]=0\n",
    "\n",
    "#this is the Onsager solution"
   ]
  },
  {
   "cell_type": "code",
   "execution_count": 2,
   "metadata": {
    "collapsed": false
   },
   "outputs": [
    {
     "name": "stderr",
     "output_type": "stream",
     "text": [
      "/Users/sunhop/anaconda/lib/python3.5/site-packages/ipykernel/__main__.py:16: VisibleDeprecationWarning: using a non-integer number instead of an integer will result in an error in the future\n",
      "/Users/sunhop/anaconda/lib/python3.5/site-packages/ipykernel/__main__.py:18: VisibleDeprecationWarning: using a non-integer number instead of an integer will result in an error in the future\n",
      "/Users/sunhop/anaconda/lib/python3.5/site-packages/ipykernel/__main__.py:9: VisibleDeprecationWarning: using a non-integer number instead of an integer will result in an error in the future\n",
      "/Users/sunhop/anaconda/lib/python3.5/site-packages/ipykernel/__main__.py:11: VisibleDeprecationWarning: using a non-integer number instead of an integer will result in an error in the future\n"
     ]
    }
   ],
   "source": [
    "for i in range(10):\n",
    "    for t in range(T):\n",
    "        M[i,t] = 0\n",
    "for jkbt in range(T-1):   \n",
    "    if PLT[jkbt,99,0,7]>0:\n",
    "        for i_0 in range(I):\n",
    "            for j_0 in range(J):\n",
    "                if (i_0+j_0)%2 == 0:\n",
    "                    M[np.floor((w)/W),jkbt]+= (PLT[jkbt,99,i_0,j_0])\n",
    "                else:\n",
    "                    M[np.floor((w)/W),jkbt]-= (PLT[jkbt,99,i_0,j_0])\n",
    "    else:\n",
    "        for i_0 in range(I):\n",
    "            for j_0 in range(J):\n",
    "                if (i_0+j_0)%2 == 0:\n",
    "                    M[np.floor((w)/W),jkbt]-= (PLT[jkbt,99,i_0,j_0])\n",
    "                else:\n",
    "                    M[np.floor((w)/W),jkbt]+= (PLT[jkbt,99,i_0,j_0])"
   ]
  },
  {
   "cell_type": "code",
   "execution_count": 5,
   "metadata": {
    "collapsed": false
   },
   "outputs": [
    {
     "data": {
      "image/png": "[encoded data removed]",
      "text/plain": [
       "<matplotlib.figure.Figure at 0x1100a3588>"
      ]
     },
     "metadata": {},
     "output_type": "display_data"
    }
   ],
   "source": [
    "ii = range(T)\n",
    "ii = np.asarray(ii)\n",
    "T_ =(ii[:]*Steplen)\n",
    "\n",
    "for i in range(1):\n",
    "\n",
    "    #print(\"Error:\",np.sqrt(np.sum((np.abs(M[i,:]) - np.abs(Onsager))**2)))\n",
    "    #Err_sum += np.sqrt(np.sum((np.abs(M[i,:]) - np.abs(Onsager))**2))\n",
    "    plt.scatter(ii,np.abs(M[i,:]))\n",
    "    plt.scatter(ii,Onsager,color='red')\n",
    "    plt.show()\n",
    "    \n"
   ]
  },
  {
   "cell_type": "code",
   "execution_count": null,
   "metadata": {
    "collapsed": true
   },
   "outputs": [],
   "source": []
  }
 ],
 "metadata": {
  "anaconda-cloud": {},
  "kernelspec": {
   "display_name": "Python [default]",
   "language": "python",
   "name": "python3"
  },
  "language_info": {
   "codemirror_mode": {
    "name": "ipython",
    "version": 3
   },
   "file_extension": ".py",
   "mimetype": "text/x-python",
   "name": "python",
   "nbconvert_exporter": "python",
   "pygments_lexer": "ipython3",
   "version": "3.5.2"
  }
 },
 "nbformat": 4,
 "nbformat_minor": 1
}
