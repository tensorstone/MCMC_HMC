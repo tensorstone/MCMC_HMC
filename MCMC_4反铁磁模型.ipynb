{
 "cells": [
  {
   "cell_type": "code",
   "execution_count": null,
   "metadata": {
    "collapsed": false
   },
   "outputs": [],
   "source": [
    "########\n",
    "##MCMC##\n",
    "########\n",
    "'''\n",
    "this program will help to find the convergence rate of MCMC, in term of magnetic moment\n",
    "author: Hao SUN\n",
    "email: sunhopht@gmail.com\n",
    "'''\n",
    "\n",
    "import numpy as np\n",
    "import matplotlib.pyplot as plt\n",
    "import datetime\n",
    "import random\n",
    "random.seed(123)#for duplication\n",
    "\n",
    "\n",
    "\n",
    "now = datetime.datetime.now()\n",
    "#the start time\n",
    "\n",
    "I =16\n",
    "J =16\n",
    "#I,J  are the shape of the simulated optical lattice\n",
    "\n",
    "A = np.empty((I,J))\n",
    "for i in range(I):\n",
    "    for j in range(J):\n",
    "        A[i,j]= 1\n",
    "        \n",
    "        \n",
    "JKBTMAX = 5 #range of temperature \n",
    "Steplen = 0.1 # step length\n",
    "\n",
    "\n",
    "T = int(JKBTMAX/Steplen) #the number of temperature \n",
    "M = np.empty((10,T))#the average magnetic moment for every 10 percent result of each T\n",
    "for i in range(10):\n",
    "    for t in range(T):\n",
    "        M[i,t] = 0\n",
    "\n",
    "\n",
    "cycle = 10000 #cycle times for each point on average\n",
    "W =I*J*cycle #total cycle times for each T\n",
    "####################\n",
    "PLT = np.zeros((T,cycle,I,J))\n",
    "####################\n",
    "for jkbt in range(T):\n",
    "    Temp = jkbt\n",
    "    #Temp = T -1 - JKBT\n",
    "    for w in range(W):\n",
    "        i = int(np.round((I-1)*random.uniform(0,1)))\n",
    "        j = int(np.round((J-1)*random.uniform(0,1)))\n",
    "        A[i,j]=-A[i,j]\n",
    "        if i==0:\n",
    "            im=I-1\n",
    "        else:\n",
    "            im=i-1\n",
    "        if i==I-1:\n",
    "            ip=0\n",
    "        else:\n",
    "            ip=i+1\n",
    "        if j==0:\n",
    "            jm=J-1\n",
    "        else:\n",
    "            jm=j-1\n",
    "        if j==J-1:\n",
    "            jp=0\n",
    "        else:\n",
    "            jp=j+1\n",
    "        \n",
    "        \n",
    "        dE = 2* (A[i,j]*A[ip,j]+A[i,j]*A[i,jp]+A[i,j]*A[im,j]+A[i,j]*A[i,jm])\n",
    "        if dE<0:\n",
    "            A[i,j] = A[i,j]\n",
    "        else:\n",
    "            if np.exp(-dE/(Temp*Steplen))<random.uniform(0,1):\n",
    "                A[i,j] = -A[i,j]\n",
    "                \n",
    "        PLT[jkbt,np.floor((w)*cycle/W),:,:] = A[:,:]\n",
    "    if A[0,7]>0:\n",
    "        for i_0 in range(I):\n",
    "            for j_0 in range(J):\n",
    "                if (i_0+j_0)%2 == 0:\n",
    "                    M[np.floor((w)/W),jkbt]+= (A[i_0,j_0])\n",
    "                else:\n",
    "                    M[np.floor((w)/W),jkbt]-= (A[i_0,j_0])\n",
    "    else:\n",
    "        for i_0 in range(I):\n",
    "            for j_0 in range(J):\n",
    "                if (i_0+j_0)%2 == 0:\n",
    "                    M[np.floor((w)/W),jkbt]-= (A[i_0,j_0])\n",
    "                else:\n",
    "                    M[np.floor((w)/W),jkbt]+= (A[i_0,j_0])\n",
    "    #M[:,jkbt] /= (W/10)\n",
    "end = datetime.datetime.now()\n",
    "print(\"time:\",(end-now).total_seconds())\n",
    "\n",
    "ii = range(T)\n",
    "ii = np.asarray(ii)\n",
    "T_ =(ii[:]*Steplen)\n",
    "Onsager= I*J*(1-np.sinh(2/T_)**(-4))**0.125\n",
    "for i in range(len(Onsager)):\n",
    "    if np.isnan(Onsager[i]):\n",
    "        Onsager[i]=0\n",
    "\n",
    "#this is the Onsager solution"
   ]
  },
  {
   "cell_type": "code",
   "execution_count": null,
   "metadata": {
    "collapsed": false,
    "scrolled": false
   },
   "outputs": [],
   "source": [
    "ii = range(T)\n",
    "ii = np.asarray(ii)\n",
    "T_ =(ii[:]*Steplen)\n",
    "Onsager= I*J*(1-np.sinh(2/T_)**(-4))**0.125\n",
    "for i in range(len(Onsager)):\n",
    "    if np.isnan(Onsager[i]):\n",
    "        Onsager[i]=0\n",
    "Err_sum = 0\n",
    "for i in range(1):\n",
    "\n",
    "    #print(\"Error:\",np.sqrt(np.sum((np.abs(M[i,:]) - np.abs(Onsager))**2)))\n",
    "    #Err_sum += np.sqrt(np.sum((np.abs(M[i,:]) - np.abs(Onsager))**2))\n",
    "    plt.scatter(ii,np.abs(M[i,:]))\n",
    "    #plt.scatter(ii,Onsager,color='red')\n",
    "    plt.show()\n",
    "    \n",
    "\n",
    "print(\"Err_mean :\",Err_sum/10)"
   ]
  },
  {
   "cell_type": "code",
   "execution_count": null,
   "metadata": {
    "collapsed": false
   },
   "outputs": [],
   "source": [
    "plt.imshow(PLT[2,96,:,:])\n",
    "plt.show()"
   ]
  },
  {
   "cell_type": "code",
   "execution_count": 17,
   "metadata": {
    "collapsed": false
   },
   "outputs": [
    {
     "data": {
      "text/plain": [
       "(50, 100, 16, 16)"
      ]
     },
     "execution_count": 17,
     "metadata": {},
     "output_type": "execute_result"
    }
   ],
   "source": [
    "np.shape(PLT)"
   ]
  },
  {
   "cell_type": "code",
   "execution_count": null,
   "metadata": {
    "collapsed": true
   },
   "outputs": [],
   "source": []
  }
 ],
 "metadata": {
  "kernelspec": {
   "display_name": "Python [default]",
   "language": "python",
   "name": "python3"
  },
  "language_info": {
   "codemirror_mode": {
    "name": "ipython",
    "version": 3
   },
   "file_extension": ".py",
   "mimetype": "text/x-python",
   "name": "python",
   "nbconvert_exporter": "python",
   "pygments_lexer": "ipython3",
   "version": "3.5.2"
  }
 },
 "nbformat": 4,
 "nbformat_minor": 1
}
